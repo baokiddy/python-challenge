{
 "cells": [
  {
   "cell_type": "code",
   "execution_count": 97,
   "metadata": {},
   "outputs": [],
   "source": [
    "#You will give a set of financial data called budget_data.csv. The dataset is composed of two columns: Date and Profit/Losses.\n",
    "#Import important modules needed for this work\n",
    "\n",
    "import os\n",
    "import csv\n",
    "import codecs"
   ]
  },
  {
   "cell_type": "code",
   "execution_count": 98,
   "metadata": {},
   "outputs": [],
   "source": [
    "#Open and read file for analysis\n",
    "csvpath = os.path.join(\"Resources\", \"budget_data.csv\")"
   ]
  },
  {
   "cell_type": "code",
   "execution_count": 99,
   "metadata": {},
   "outputs": [],
   "source": [
    "#Create empty lists for each column\n",
    "date = []\n",
    "profit_loss = []\n",
    "\n",
    "with open(csvpath, newline='', encoding='utf8') as csvfile:\n",
    "\n",
    "    #Read and pull data\n",
    "    csvreader = csv.reader(csvfile, delimiter=',')\n",
    "\n",
    "    # Then store the contents of the date and profit/loss columns.\n",
    "    for row in csvreader:\n",
    "        \n",
    "        #if not [ char for char in row if char in string.digits ]:\n",
    "            date.append(row[0])\n",
    "            profit_loss.append(row[1])\n",
    "        \n",
    "    del date[0]\n",
    "    del profit_loss[0]"
   ]
  },
  {
   "cell_type": "code",
   "execution_count": 100,
   "metadata": {},
   "outputs": [],
   "source": [
    "#The total number of months included in the dataset\n",
    "\n",
    "month_count = []\n",
    "\n",
    "for m in date:\n",
    "    month = m.split('-', 1)[0]\n",
    "    \n",
    "    month_count.append(month)\n",
    "     \n",
    "num_month = len(month_count)"
   ]
  },
  {
   "cell_type": "code",
   "execution_count": 101,
   "metadata": {},
   "outputs": [],
   "source": [
    "#The total net amount of \"Profit/Losses\" over the entire period\n",
    "total = 0\n",
    "\n",
    "for i in profit_loss:\n",
    "    \n",
    "    total = total + int(i)"
   ]
  },
  {
   "cell_type": "code",
   "execution_count": 102,
   "metadata": {},
   "outputs": [],
   "source": [
    "#The average change in \"Profit/Losses\" between months over the entire period\n",
    "\n",
    "initial = profit_loss[0]\n",
    "\n",
    "change_list = []\n",
    "\n",
    "for j in profit_loss:\n",
    "    \n",
    "    change = int(j) - int(initial)\n",
    "    \n",
    "    initial = j\n",
    "    \n",
    "    change_list.append(change)\n",
    "    \n",
    "del change_list[0]\n",
    "    \n",
    "avg_change = sum(change_list)/len(change_list)"
   ]
  },
  {
   "cell_type": "code",
   "execution_count": 103,
   "metadata": {},
   "outputs": [],
   "source": [
    "#The greatest increase in profits (date and amount) over the entire period\n",
    "count = 0\n",
    "rec_profit = int(change_list[0])\n",
    "\n",
    "for amount in change_list:\n",
    "    \n",
    "    value = int(amount)\n",
    "    count = count + 1\n",
    "    \n",
    "    if value> rec_profit:\n",
    "        rec_profit = value\n",
    "        inc_date = date[count]"
   ]
  },
  {
   "cell_type": "code",
   "execution_count": 104,
   "metadata": {},
   "outputs": [],
   "source": [
    "#The greatest decrease in losses (date and amount) over the entire period\n",
    "count = 0\n",
    "rec_loss = int(change_list[0])\n",
    "\n",
    "for amount in change_list:\n",
    "    \n",
    "    value = int(amount)\n",
    "    count = count + 1\n",
    "    \n",
    "    if value< rec_loss:\n",
    "        rec_loss = value\n",
    "        dec_date = date[count]"
   ]
  },
  {
   "cell_type": "code",
   "execution_count": null,
   "metadata": {},
   "outputs": [],
   "source": [
    "#Print out all recorded answers\n",
    "print('Financial Analysis')\n",
    "print('----------------------------')\n",
    "print(f'Total Months: {num_month}')\n",
    "print(f'Total: {total}') \n",
    "print(f'Average  Change: {round(avg_change, 2)}')\n",
    "print(f'Greatest Increase in Profits: {inc_date} (${rec_profit})')\n",
    "print(f'Greatest Decrease in Profits: {dec_date} (${rec_loss})')\n"
   ]
  }
 ],
 "metadata": {
  "kernelspec": {
   "display_name": "Python 3",
   "language": "python",
   "name": "python3"
  },
  "language_info": {
   "codemirror_mode": {
    "name": "ipython",
    "version": 3
   },
   "file_extension": ".py",
   "mimetype": "text/x-python",
   "name": "python",
   "nbconvert_exporter": "python",
   "pygments_lexer": "ipython3",
   "version": "3.6.5"
  }
 },
 "nbformat": 4,
 "nbformat_minor": 2
}
