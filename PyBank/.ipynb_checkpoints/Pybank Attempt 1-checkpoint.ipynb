{
 "cells": [
  {
   "cell_type": "code",
   "execution_count": 76,
   "metadata": {},
   "outputs": [],
   "source": [
    "#You will give a set of financial data called budget_data.csv. The dataset is composed of two columns: Date and Profit/Losses.\n",
    "#Import important modules needed for this work\n",
    "\n",
    "import os\n",
    "import csv\n",
    "import codecs\n",
    "import datetime"
   ]
  },
  {
   "cell_type": "code",
   "execution_count": 57,
   "metadata": {},
   "outputs": [],
   "source": [
    "#Open and read file for analysis\n",
    "csvpath = os.path.join(\"Resources\", \"budget_data.csv\")"
   ]
  },
  {
   "cell_type": "code",
   "execution_count": 69,
   "metadata": {},
   "outputs": [
    {
     "name": "stdout",
     "output_type": "stream",
     "text": [
      "['867884', '984655', '322013', '-69417', '310503', '522857', '1033096', '604885', '-216386', '477532', '893810', '-80353', '779806', '-335203', '697845', '793163', '485070', '584122', '62729', '668179', '899906', '834719', '132003', '309978', '-755566', '1170593', '252788', '1151518', '817256', '570757', '506702', '-1022534', '475062', '779976', '144175', '542494', '359333', '321469', '67780', '471435', '565603', '872480', '789480', '999942', '-1196225', '268997', '-687986', '1150461', '682458', '617856', '824098', '581943', '132864', '448062', '689161', '800701', '1166643', '947333', '578668', '988505', '1139715', '1029471', '687533', '-524626', '158620', '87795', '423389', '840723', '568529', '332067', '989499', '778237', '650000', '-1100387', '-174946', '757143', '445709', '712961', '-1163797', '569899', '768450', '102685', '795914', '60988', '138230', '671099']\n"
     ]
    }
   ],
   "source": [
    "#Create empty lists for each column\n",
    "date = []\n",
    "profit_loss = []\n",
    "\n",
    "with open(csvpath, newline='', encoding='utf8') as csvfile:\n",
    "\n",
    "    #Read and pull data\n",
    "    csvreader = csv.reader(csvfile, delimiter=',')\n",
    "\n",
    "    # Then store the contents of the date and profit/loss columns.\n",
    "    for row in csvreader:\n",
    "        \n",
    "        #if not [ char for char in row if char in string.digits ]:\n",
    "            date.append(row[0])\n",
    "            profit_loss.append(row[1])\n",
    "        \n",
    "    del date[0]\n",
    "    del profit_loss[0]\n",
    "    \n",
    "    print(profit_loss)"
   ]
  },
  {
   "cell_type": "code",
   "execution_count": 82,
   "metadata": {},
   "outputs": [
    {
     "name": "stdout",
     "output_type": "stream",
     "text": [
      "86\n"
     ]
    }
   ],
   "source": [
    "#The total number of months included in the dataset\n",
    "\n",
    "month_count = []\n",
    "\n",
    "for m in date:\n",
    "    month = m.split('-', 1)[0]\n",
    "    \n",
    "    month_count.append(month)\n",
    "     \n",
    "num_month = len(month_count)\n",
    "    \n",
    "print(num_month)"
   ]
  },
  {
   "cell_type": "markdown",
   "metadata": {},
   "source": [
    "#The total net amount of \"Profit/Losses\" over the entire period\n",
    "total = 0\n",
    "\n",
    "for i in profit_loss:\n",
    "    \n",
    "    total = total + int(i)\n",
    "\n",
    "print(total)"
   ]
  },
  {
   "cell_type": "code",
   "execution_count": 73,
   "metadata": {},
   "outputs": [
    {
     "name": "stdout",
     "output_type": "stream",
     "text": [
      "-2315.1176470588234\n"
     ]
    }
   ],
   "source": [
    "#The average change in \"Profit/Losses\" between months over the entire period\n",
    "\n",
    "initial = profit_loss[0]\n",
    "\n",
    "change_list = []\n",
    "\n",
    "for j in profit_loss:\n",
    "    \n",
    "    change = int(j) - int(initial)\n",
    "    \n",
    "    initial = j\n",
    "    \n",
    "    change_list.append(change)\n",
    "    \n",
    "del change_list[0]\n",
    "    \n",
    "avg_change = sum(change_list)/len(change_list)\n",
    "\n",
    "print(avg_change)"
   ]
  },
  {
   "cell_type": "code",
   "execution_count": null,
   "metadata": {},
   "outputs": [],
   "source": [
    "#The greatest increase in profits (date and amount) over the entire period"
   ]
  },
  {
   "cell_type": "code",
   "execution_count": null,
   "metadata": {},
   "outputs": [],
   "source": [
    "#The greatest decrease in losses (date and amount) over the entire period"
   ]
  },
  {
   "cell_type": "code",
   "execution_count": null,
   "metadata": {},
   "outputs": [],
   "source": [
    "#Print out all recorded answers"
   ]
  }
 ],
 "metadata": {
  "kernelspec": {
   "display_name": "Python 3",
   "language": "python",
   "name": "python3"
  },
  "language_info": {
   "codemirror_mode": {
    "name": "ipython",
    "version": 3
   },
   "file_extension": ".py",
   "mimetype": "text/x-python",
   "name": "python",
   "nbconvert_exporter": "python",
   "pygments_lexer": "ipython3",
   "version": "3.6.5"
  }
 },
 "nbformat": 4,
 "nbformat_minor": 2
}
