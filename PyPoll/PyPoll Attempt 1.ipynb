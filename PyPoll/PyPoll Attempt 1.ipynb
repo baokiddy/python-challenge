{
 "cells": [
  {
   "cell_type": "code",
   "execution_count": 38,
   "metadata": {},
   "outputs": [],
   "source": [
    "#You are tasked with helping a small, rural town modernize its vote-counting process. \n",
    "#You will be give a set of poll data called election_data.csv. \n",
    "#The dataset is composed of three columns: Voter ID, County, and Candidate.\n",
    "#Import important modules\n",
    "import os\n",
    "import csv\n",
    "import codecs"
   ]
  },
  {
   "cell_type": "code",
   "execution_count": 39,
   "metadata": {},
   "outputs": [],
   "source": [
    "#Open and read database file\n",
    "csvpath = os.path.join(\"Resources\", \"election_data.csv\")\n",
    "\n",
    "voter_id = []\n",
    "county = []\n",
    "candidate = []\n",
    "\n",
    "with open(csvpath, newline='', encoding='utf8') as csvfile:\n",
    "\n",
    "    #Read and pull data\n",
    "    csvreader = csv.reader(csvfile, delimiter=',')\n",
    "\n",
    "    # Then store the contents of the date and profit/loss columns.\n",
    "    for row in csvreader:\n",
    "        \n",
    "            voter_id.append(row[0])\n",
    "            county.append(row[1])\n",
    "            candidate.append(row[2])\n",
    "        \n",
    "    del voter_id[0]\n",
    "    del county[0]\n",
    "    del candidate[0]"
   ]
  },
  {
   "cell_type": "code",
   "execution_count": 40,
   "metadata": {},
   "outputs": [],
   "source": [
    "#The total number of votes cast\n",
    "vote_count = len(voter_id)"
   ]
  },
  {
   "cell_type": "code",
   "execution_count": 41,
   "metadata": {},
   "outputs": [],
   "source": [
    "#A complete list of candidates who received votes\n",
    "candidate_list = []\n",
    "\n",
    "for name in candidate:\n",
    "    \n",
    "    if name not in candidate_list:\n",
    "        candidate_list.append(name)"
   ]
  },
  {
   "cell_type": "code",
   "execution_count": 42,
   "metadata": {},
   "outputs": [],
   "source": [
    "#The total number of votes and the percentage of votes each candidate won\n",
    "k_vote = 0\n",
    "c_vote = 0\n",
    "l_vote = 0\n",
    "o_vote = 0\n",
    "\n",
    "\n",
    "for vote in candidate:\n",
    "    if vote == 'Khan':\n",
    "        k_vote = k_vote + 1\n",
    "        \n",
    "    elif vote == 'Correy':\n",
    "        c_vote = c_vote + 1\n",
    "        \n",
    "    elif vote == 'Li':\n",
    "        l_vote = l_vote + 1\n",
    "        \n",
    "    elif vote == \"O'Tooley\":\n",
    "        o_vote = o_vote + 1\n",
    "        \n",
    "candidate_vote = [k_vote, c_vote, l_vote, o_vote]\n",
    "candidate_per = []\n",
    "\n",
    "for i in candidate_vote:\n",
    "    \n",
    "    per = round((i/vote_count)*100, 4)\n",
    "    candidate_per.append(per)"
   ]
  },
  {
   "cell_type": "code",
   "execution_count": 43,
   "metadata": {},
   "outputs": [],
   "source": [
    "#The winner of the election based on popular vote.\n",
    "count = 0\n",
    "int_candidate = candidate_vote[0]\n",
    "winner = candidate_list[0]\n",
    "\n",
    "for j in candidate_vote:\n",
    "    \n",
    "    if j> int_candidate:\n",
    "        winner = candidate_list[count]\n",
    "        int_candidate = j\n",
    "    else:\n",
    "        count = count + 1"
   ]
  },
  {
   "cell_type": "code",
   "execution_count": 44,
   "metadata": {},
   "outputs": [
    {
     "name": "stdout",
     "output_type": "stream",
     "text": [
      "Election Results\n",
      "----------------------------\n",
      "Total Votes: 3521001\n",
      "----------------------------\n",
      "Khan: 63.0% (2218231)\n",
      "Correy: 20.0% (704200)\n",
      "Li: 14.0% (492940)\n",
      "O'Tooley: 3.0% (105630)\n",
      "----------------------------\n",
      "Winner: Khan\n",
      "----------------------------\n"
     ]
    }
   ],
   "source": [
    "#Print results to terminal\n",
    "c = 0\n",
    "\n",
    "print('Election Results')\n",
    "print('----------------------------')\n",
    "print(f'Total Votes: {vote_count}')\n",
    "print('----------------------------')\n",
    "for j in candidate_list:\n",
    "    print(f'{candidate_list[c]}: {candidate_per[c]}% ({candidate_vote[c]})')\n",
    "    c = c + 1 \n",
    "print('----------------------------')\n",
    "print(f'Winner: {winner}')\n",
    "print('----------------------------')"
   ]
  },
  {
   "cell_type": "code",
   "execution_count": 49,
   "metadata": {},
   "outputs": [],
   "source": [
    "#Print results to text file\n",
    "info = zip(candidate_list, candidate_per, candidate_vote)\n",
    "\n",
    "# save the output file path\n",
    "output_file = os.path.join(\"election_results.csv\")\n",
    "\n",
    "# open the output file, create a header row, and then write the zipped object to the csv\n",
    "with open(output_file, \"w\", newline=\"\") as datafile:\n",
    "    writer = csv.writer(datafile)\n",
    "\n",
    "    writer.writerow([\"Election Results\"])\n",
    "    writer.writerow([\"Total Votes\", vote_count])\n",
    "    writer.writerow([\"Candidate\", 'Percentage of Votes (%)', 'Total Number of Votes'])\n",
    "    writer.writerows(info)\n",
    "    writer.writerow([\"Winner\", winner])"
   ]
  }
 ],
 "metadata": {
  "kernelspec": {
   "display_name": "Python 3",
   "language": "python",
   "name": "python3"
  },
  "language_info": {
   "codemirror_mode": {
    "name": "ipython",
    "version": 3
   },
   "file_extension": ".py",
   "mimetype": "text/x-python",
   "name": "python",
   "nbconvert_exporter": "python",
   "pygments_lexer": "ipython3",
   "version": "3.6.5"
  }
 },
 "nbformat": 4,
 "nbformat_minor": 2
}
